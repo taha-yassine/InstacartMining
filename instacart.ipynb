{
 "cells": [
  {
   "cell_type": "markdown",
   "metadata": {},
   "source": [
    "# Instacart Data Mining and Visualization Homework"
   ]
  },
  {
   "cell_type": "markdown",
   "metadata": {},
   "source": [
    "In this project. We're gonna explore a supermarket dataset. The dataset is from *Instacart*. We're going to see if we can find some interessing behaviors of customers and how we can exploit the results to improve a supermarket business."
   ]
  },
  {
   "cell_type": "markdown",
   "metadata": {},
   "source": [
    "## Task 0 : Warm up"
   ]
  },
  {
   "cell_type": "markdown",
   "metadata": {},
   "source": [
    "Importing necessary modules"
   ]
  },
  {
   "cell_type": "code",
   "execution_count": 1,
   "metadata": {},
   "outputs": [],
   "source": [
    "import numpy as np # linear algebra\n",
    "import pandas as pd # data processing, CSV file I/O (e.g. pd.read_csv)\n",
    "import matplotlib.pyplot as plt\n",
    "import seaborn as sns\n",
    "color = sns.color_palette()\n",
    "\n",
    "%matplotlib inline\n",
    "\n",
    "pd.options.mode.chained_assignment = None  # default='warn'"
   ]
  },
  {
   "cell_type": "markdown",
   "metadata": {},
   "source": [
    "Importing data into a dataframe"
   ]
  },
  {
   "cell_type": "code",
   "execution_count": 2,
   "metadata": {},
   "outputs": [],
   "source": [
    "order_products_df = pd.read_csv(\"data/order_products__train.csv\")"
   ]
  },
  {
   "cell_type": "markdown",
   "metadata": {},
   "source": [
    "Showing the top rows of the data"
   ]
  },
  {
   "cell_type": "code",
   "execution_count": 3,
   "metadata": {},
   "outputs": [
    {
     "data": {
      "text/html": [
       "<div>\n",
       "<style scoped>\n",
       "    .dataframe tbody tr th:only-of-type {\n",
       "        vertical-align: middle;\n",
       "    }\n",
       "\n",
       "    .dataframe tbody tr th {\n",
       "        vertical-align: top;\n",
       "    }\n",
       "\n",
       "    .dataframe thead th {\n",
       "        text-align: right;\n",
       "    }\n",
       "</style>\n",
       "<table border=\"1\" class=\"dataframe\">\n",
       "  <thead>\n",
       "    <tr style=\"text-align: right;\">\n",
       "      <th></th>\n",
       "      <th>order_id</th>\n",
       "      <th>product_id</th>\n",
       "      <th>add_to_cart_order</th>\n",
       "      <th>reordered</th>\n",
       "    </tr>\n",
       "  </thead>\n",
       "  <tbody>\n",
       "    <tr>\n",
       "      <th>0</th>\n",
       "      <td>1</td>\n",
       "      <td>49302</td>\n",
       "      <td>1</td>\n",
       "      <td>1</td>\n",
       "    </tr>\n",
       "    <tr>\n",
       "      <th>1</th>\n",
       "      <td>1</td>\n",
       "      <td>11109</td>\n",
       "      <td>2</td>\n",
       "      <td>1</td>\n",
       "    </tr>\n",
       "    <tr>\n",
       "      <th>2</th>\n",
       "      <td>1</td>\n",
       "      <td>10246</td>\n",
       "      <td>3</td>\n",
       "      <td>0</td>\n",
       "    </tr>\n",
       "    <tr>\n",
       "      <th>3</th>\n",
       "      <td>1</td>\n",
       "      <td>49683</td>\n",
       "      <td>4</td>\n",
       "      <td>0</td>\n",
       "    </tr>\n",
       "    <tr>\n",
       "      <th>4</th>\n",
       "      <td>1</td>\n",
       "      <td>43633</td>\n",
       "      <td>5</td>\n",
       "      <td>1</td>\n",
       "    </tr>\n",
       "  </tbody>\n",
       "</table>\n",
       "</div>"
      ],
      "text/plain": [
       "   order_id  product_id  add_to_cart_order  reordered\n",
       "0         1       49302                  1          1\n",
       "1         1       11109                  2          1\n",
       "2         1       10246                  3          0\n",
       "3         1       49683                  4          0\n",
       "4         1       43633                  5          1"
      ]
     },
     "execution_count": 3,
     "metadata": {},
     "output_type": "execute_result"
    }
   ],
   "source": [
    "order_products_df.head()"
   ]
  },
  {
   "cell_type": "markdown",
   "metadata": {},
   "source": [
    "We see that each row represents a product purchased and included in an order."
   ]
  },
  {
   "cell_type": "markdown",
   "metadata": {},
   "source": [
    "Loading the equivalence id <=> product"
   ]
  },
  {
   "cell_type": "code",
   "execution_count": 3,
   "metadata": {},
   "outputs": [],
   "source": [
    "mapFile = \"data/products.csv\"\n",
    "with open(mapFile, encoding=\"utf8\") as f:\n",
    "    mapData = f.readlines()\n",
    "\n",
    "idToProduct = {}\n",
    "\n",
    "for line in mapData[1:]:\n",
    "    assoc = line.split(',', 2)\n",
    "    idToProduct[int(assoc[0])] = assoc[1].strip()"
   ]
  },
  {
   "cell_type": "markdown",
   "metadata": {},
   "source": [
    "Number of different orders :"
   ]
  },
  {
   "cell_type": "code",
   "execution_count": 16,
   "metadata": {},
   "outputs": [
    {
     "data": {
      "text/plain": [
       "131209"
      ]
     },
     "execution_count": 16,
     "metadata": {},
     "output_type": "execute_result"
    }
   ],
   "source": [
    "order_products_df['order_id'].nunique()"
   ]
  },
  {
   "cell_type": "markdown",
   "metadata": {},
   "source": [
    "Number of different products :"
   ]
  },
  {
   "cell_type": "code",
   "execution_count": 17,
   "metadata": {},
   "outputs": [
    {
     "data": {
      "text/plain": [
       "39123"
      ]
     },
     "execution_count": 17,
     "metadata": {},
     "output_type": "execute_result"
    }
   ],
   "source": [
    "order_products_df['product_id'].nunique()"
   ]
  },
  {
   "cell_type": "markdown",
   "metadata": {},
   "source": [
    "Newly ordered and reordered products count :"
   ]
  },
  {
   "cell_type": "code",
   "execution_count": 20,
   "metadata": {},
   "outputs": [
    {
     "data": {
      "text/plain": [
       "reordered\n",
       "0    555793\n",
       "1    828824\n",
       "Name: order_id, dtype: int64"
      ]
     },
     "execution_count": 20,
     "metadata": {},
     "output_type": "execute_result"
    }
   ],
   "source": [
    "order_products_df.groupby('reordered')['order_id'].count()"
   ]
  },
  {
   "cell_type": "markdown",
   "metadata": {},
   "source": [
    "### Statistics on number of products per order"
   ]
  },
  {
   "cell_type": "code",
   "execution_count": 21,
   "metadata": {},
   "outputs": [
    {
     "data": {
      "text/plain": [
       "(array([ 0,  1,  2,  3,  4,  5,  6,  7,  8,  9, 10, 11, 12, 13, 14, 15, 16,\n",
       "        17, 18, 19, 20, 21, 22, 23, 24, 25, 26, 27, 28, 29, 30, 31, 32, 33,\n",
       "        34, 35, 36, 37, 38, 39, 40, 41, 42, 43, 44, 45, 46, 47, 48, 49, 50,\n",
       "        51, 52, 53, 54, 55, 56, 57, 58, 59, 60, 61, 62, 63, 64, 65, 66, 67,\n",
       "        68, 69, 70, 71, 72, 73, 74]), <a list of 75 Text xticklabel objects>)"
      ]
     },
     "execution_count": 21,
     "metadata": {},
     "output_type": "execute_result"
    },
    {
     "data": {
      "image/png": "[encoded data removed]",
      "text/plain": [
       "<Figure size 864x576 with 1 Axes>"
      ]
     },
     "metadata": {
      "needs_background": "light"
     },
     "output_type": "display_data"
    }
   ],
   "source": [
    "products_count = order_products_df.groupby('order_id')['product_id'].count().reset_index()\n",
    "products_count = products_count.product_id.value_counts()\n",
    "\n",
    "plt.figure(figsize=(12,8))\n",
    "sns.barplot(products_count.index, products_count.values, color=color[2])\n",
    "plt.ylabel('Number of Occurrences', fontsize=12)\n",
    "plt.xlabel('Number of Products', fontsize=12)\n",
    "plt.xticks(rotation='vertical')"
   ]
  },
  {
   "cell_type": "markdown",
   "metadata": {},
   "source": [
    "We see that generally, people buy roughly **5** products per visit."
   ]
  },
  {
   "cell_type": "markdown",
   "metadata": {},
   "source": [
    "Maximum, minimum and average number of bought products per visit in out dataset :"
   ]
  },
  {
   "cell_type": "code",
   "execution_count": 75,
   "metadata": {},
   "outputs": [
    {
     "name": "stdout",
     "output_type": "stream",
     "text": [
      "Maximum : 80\n",
      "Minimum : 1\n",
      "Average : 10\n"
     ]
    }
   ],
   "source": [
    "max = order_products_df.groupby('order_id')['product_id'].count().max()\n",
    "min = order_products_df.groupby('order_id')['product_id'].count().min()\n",
    "mean = order_products_df.groupby('order_id')['product_id'].count().mean()\n",
    "\n",
    "print ('Maximum : %d' % (max))\n",
    "print ('Minimum : %d' % (min))\n",
    "print ('Average : %d' % (mean))"
   ]
  },
  {
   "cell_type": "markdown",
   "metadata": {},
   "source": [
    "## Task 1 : Frequent Itemset Mining"
   ]
  },
  {
   "cell_type": "markdown",
   "metadata": {},
   "source": [
    "### Apriori Implementation"
   ]
  },
  {
   "cell_type": "code",
   "execution_count": 46,
   "metadata": {
    "jupyter": {
     "source_hidden": true
    }
   },
   "outputs": [],
   "source": [
    "from collections import Counter\n",
    "\n",
    "def apriori(data, minSup):\n",
    "    print(\"The dataset has:\",len(data),\"transactions\")\n",
    "    print(\"Mining with minimum support:\",minSup,\"(\",100*minSup/len(data),\"%)\")\n",
    "    # Compute support of 1-itemsets\n",
    "    flatten_db = [item for transaction in data for item in transaction]\n",
    "    C1 = Counter(flatten_db)\n",
    "    \n",
    "    # Remove infrequent 1-itemsets\n",
    "    L1 = []\n",
    "    supportList = []\n",
    "    for item, support in C1.items():\n",
    "        if support >= minSup:\n",
    "            L1.append([item])\n",
    "            supportList.append(support)\n",
    "            \n",
    "    results = [L1]\n",
    "    k = 1\n",
    "    while len(results)>=k and k<6: # The k<6 prevents Apriori to look for itemsets of more than 5 elements\n",
    "        # Generate\n",
    "        Ckp1 = apriori_gen(results[k-1],k)\n",
    "        \n",
    "        # Test\n",
    "        Ckp1_count = [0] * len(Ckp1)\n",
    "        #  - Scan data, counting one per transaction containing itemset\n",
    "        for transaction in data:\n",
    "            st = set(transaction)\n",
    "            for i, itemset in enumerate(Ckp1):\n",
    "                si = set(itemset)\n",
    "                if si.issubset(st): \n",
    "                    Ckp1_count[i] += 1\n",
    "        #   - Record itemsets that have a high enough frequency\n",
    "        Lkp1 = []\n",
    "        for i, itemset in enumerate(Ckp1):\n",
    "            if Ckp1_count[i] >= minSup:\n",
    "                #print(itemset,\"is frequent (support=\",Ckp1_count[i],\")\")\n",
    "                Lkp1.append(itemset)\n",
    "                supportList.append(Ckp1_count[i])\n",
    "        # If any itemset stored in Lk+1, add it to the final result (will allow general loop to continue)\n",
    "        if Lkp1:\n",
    "            results.append(Lkp1)\n",
    "        \n",
    "        k = k+1\n",
    "    \n",
    "    # Return temporary result\n",
    "    return results, supportList\n",
    "\n",
    "from itertools import combinations\n",
    "\n",
    "def apriori_gen(Lk, k):\n",
    "    #print(\"Apriori_gen\",Lk)\n",
    "    # Sort elements of Lk based on itemset prefixes (lexicographic sort)\n",
    "    sortedLk = list(Lk) \n",
    "    sortedLk.sort() # don't care about support here. Python sort of list is lexicographic\n",
    "    # Create Ckp1 by joining elements of Lk having same k-1 prefix\n",
    "    Ckp1 = []\n",
    "    for itemset1, itemset2 in combinations(sortedLk,2):           \n",
    "        if itemset1[:-1] == itemset2[:-1]:\n",
    "            Ckp1.append(itemset1 + [itemset2[-1]])\n",
    "    # Prune elements of Ckp1 having subsets not in Lk\n",
    "    result = []\n",
    "    for itemset in Ckp1:\n",
    "        subsets = combinations(itemset, len(itemset)-1)\n",
    "        keep = True\n",
    "        for s in subsets:\n",
    "            s = list(s)\n",
    "            if s not in Lk: \n",
    "                keep = False\n",
    "                # print(\"subset\",s,\"of\",itemset,\"is not in L\",k,\"-> pruning\")\n",
    "                break;\n",
    "        if keep:\n",
    "            result.append(itemset)\n",
    "            # print(itemset,\"added to C\",k+1)\n",
    "    return result\n",
    "\n",
    "def prettyPrintFIS(fisList, supportList):\n",
    "    i = 0\n",
    "    k = 1\n",
    "    for Lk in fisList:\n",
    "        print(k,\"-itemsets\")\n",
    "        for itemset in Lk:\n",
    "            print([idToProduct[id] for id in itemset],\" : \", supportList[i])\n",
    "            i += 1\n",
    "        k += 1\n",
    "    print(\"TOTAL: \",i+1,\"itemsets\")"
   ]
  },
  {
   "cell_type": "markdown",
   "metadata": {},
   "source": [
    "### Question 1.1"
   ]
  },
  {
   "cell_type": "markdown",
   "metadata": {},
   "source": [
    "To be able to mine frequent itemsets, we need to transform the data into a  format exploitable by the Apriori algorithm. That is, the data needs to be in the form of a list of transactions. In our case, a transaction is an order, and the items are the different products."
   ]
  },
  {
   "cell_type": "markdown",
   "metadata": {},
   "source": [
    "To do that, we start by grouping our data by id. Then for each subgroup, we create an array of the different product ids. Then we append each one of these arrays to our final list."
   ]
  },
  {
   "cell_type": "code",
   "execution_count": 79,
   "metadata": {},
   "outputs": [
    {
     "name": "stdout",
     "output_type": "stream",
     "text": [
      "[list([49302, 11109, 10246, 49683, 43633, 13176, 47209, 22035])\n",
      " list([39612, 19660, 49235, 43086, 46620, 34497, 48679, 46979])\n",
      " list([11913, 18159, 4461, 21616, 23622, 32433, 28842, 42625, 39693])\n",
      " list([20574, 30391, 40706, 25610, 27966, 24489, 39275])\n",
      " list([8859, 19731, 43654, 13176, 4357, 37664, 34065, 35951, 43560, 9896, 27509, 15455, 27966, 47601, 40396, 35042, 40986, 1939, 46313, 329, 30776, 36695, 27683, 15995, 27344, 47333, 48287, 45204, 24964, 18117, 46413, 34126, 9373, 22935, 46720, 44479, 790, 18441, 45007, 20520, 7461, 26317, 3880, 36364, 32463, 41387, 31066, 17747, 25659])]\n"
     ]
    }
   ],
   "source": [
    "dataset = order_products_df.groupby('order_id')['product_id'].apply(list).values\n",
    "print(dataset[:5])"
   ]
  },
  {
   "cell_type": "markdown",
   "metadata": {},
   "source": [
    "### Question 1.2"
   ]
  },
  {
   "cell_type": "markdown",
   "metadata": {},
   "source": [
    "The maximal support is the total number of occurences of the most frequent product. Let find out for each product how many times it appears and sort the results by descending order :"
   ]
  },
  {
   "cell_type": "code",
   "execution_count": 80,
   "metadata": {},
   "outputs": [
    {
     "data": {
      "text/html": [
       "<div>\n",
       "<style scoped>\n",
       "    .dataframe tbody tr th:only-of-type {\n",
       "        vertical-align: middle;\n",
       "    }\n",
       "\n",
       "    .dataframe tbody tr th {\n",
       "        vertical-align: top;\n",
       "    }\n",
       "\n",
       "    .dataframe thead th {\n",
       "        text-align: right;\n",
       "    }\n",
       "</style>\n",
       "<table border=\"1\" class=\"dataframe\">\n",
       "  <thead>\n",
       "    <tr style=\"text-align: right;\">\n",
       "      <th></th>\n",
       "      <th>product_id</th>\n",
       "      <th>count</th>\n",
       "    </tr>\n",
       "  </thead>\n",
       "  <tbody>\n",
       "    <tr>\n",
       "      <th>19574</th>\n",
       "      <td>24852</td>\n",
       "      <td>18726</td>\n",
       "    </tr>\n",
       "    <tr>\n",
       "      <th>10367</th>\n",
       "      <td>13176</td>\n",
       "      <td>15480</td>\n",
       "    </tr>\n",
       "    <tr>\n",
       "      <th>16685</th>\n",
       "      <td>21137</td>\n",
       "      <td>10894</td>\n",
       "    </tr>\n",
       "    <tr>\n",
       "      <th>17300</th>\n",
       "      <td>21903</td>\n",
       "      <td>9784</td>\n",
       "    </tr>\n",
       "    <tr>\n",
       "      <th>37499</th>\n",
       "      <td>47626</td>\n",
       "      <td>8135</td>\n",
       "    </tr>\n",
       "  </tbody>\n",
       "</table>\n",
       "</div>"
      ],
      "text/plain": [
       "       product_id  count\n",
       "19574       24852  18726\n",
       "10367       13176  15480\n",
       "16685       21137  10894\n",
       "17300       21903   9784\n",
       "37499       47626   8135"
      ]
     },
     "execution_count": 80,
     "metadata": {},
     "output_type": "execute_result"
    }
   ],
   "source": [
    "order_products_df.groupby('product_id')['order_id'].count().reset_index(name='count').sort_values(['count'], ascending=False).head()"
   ]
  },
  {
   "cell_type": "markdown",
   "metadata": {},
   "source": [
    "As we can see, the most frequent product appears **18726** times, that is our max support."
   ]
  },
  {
   "cell_type": "markdown",
   "metadata": {},
   "source": [
    "### Question 1.3"
   ]
  },
  {
   "cell_type": "markdown",
   "metadata": {},
   "source": [
    "Let's run *Apriori* on our preprocessed dataset :"
   ]
  },
  {
   "cell_type": "code",
   "execution_count": 49,
   "metadata": {},
   "outputs": [
    {
     "name": "stdout",
     "output_type": "stream",
     "text": [
      "The dataset has: 131209 transactions\n",
      "Mining with minimum support: 900 ( 0.6859285567301023 %)\n",
      "Execution time : 552.5162303447723 seconds\n"
     ]
    }
   ],
   "source": [
    "import time\n",
    "start_time = time.time()\n",
    "FIS, support = apriori(dataset, 900)\n",
    "aprioriTime = time.time() - start_time\n",
    "print(\"Execution time : %s seconds\" % aprioriTime)"
   ]
  },
  {
   "cell_type": "code",
   "execution_count": 50,
   "metadata": {},
   "outputs": [
    {
     "name": "stdout",
     "output_type": "stream",
     "text": [
      "1 -itemsets\n",
      "[10246]  :  1062\n",
      "[49683]  :  2413\n",
      "[13176]  :  15480\n",
      "[47209]  :  7293\n",
      "[22035]  :  1993\n",
      "[19660]  :  2225\n",
      "[49235]  :  2646\n",
      "[48679]  :  2568\n",
      "[46979]  :  3868\n",
      "[21616]  :  2923\n",
      "[28842]  :  1920\n",
      "[30391]  :  4613\n",
      "[40706]  :  3823\n",
      "[27966]  :  5546\n",
      "[24489]  :  1213\n",
      "[39275]  :  4966\n",
      "[8859]  :  950\n",
      "[35951]  :  2176\n",
      "[36695]  :  926\n",
      "[27344]  :  1788\n",
      "[24964]  :  4158\n",
      "[34126]  :  2400\n",
      "[22935]  :  4290\n",
      "[45007]  :  4589\n",
      "[25659]  :  1045\n",
      "[27104]  :  2651\n",
      "[5876]  :  3505\n",
      "[5077]  :  2298\n",
      "[43772]  :  1024\n",
      "[21137]  :  10894\n",
      "[17794]  :  2497\n",
      "[11182]  :  1147\n",
      "[28199]  :  1478\n",
      "[24852]  :  18726\n",
      "[1940]  :  931\n",
      "[33000]  :  1476\n",
      "[11520]  :  1898\n",
      "[6184]  :  1351\n",
      "[12341]  :  2276\n",
      "[16797]  :  6494\n",
      "[14992]  :  1160\n",
      "[31506]  :  2068\n",
      "[47626]  :  8135\n",
      "[47144]  :  1465\n",
      "[42265]  :  3597\n",
      "[31717]  :  3526\n",
      "[34358]  :  1920\n",
      "[8424]  :  2932\n",
      "[21405]  :  1041\n",
      "[41220]  :  1154\n",
      "[9387]  :  1379\n",
      "[45066]  :  3551\n",
      "[21903]  :  9784\n",
      "[9076]  :  2323\n",
      "[10749]  :  2393\n",
      "[16759]  :  1742\n",
      "[8193]  :  1418\n",
      "[43789]  :  1222\n",
      "[26209]  :  6033\n",
      "[31343]  :  1036\n",
      "[196]  :  1507\n",
      "[26369]  :  1221\n",
      "[43961]  :  2460\n",
      "[5450]  :  3103\n",
      "[44359]  :  2623\n",
      "[19057]  :  2891\n",
      "[43122]  :  980\n",
      "[8277]  :  2252\n",
      "[28985]  :  2627\n",
      "[6046]  :  943\n",
      "[18465]  :  1767\n",
      "[34969]  :  2234\n",
      "[29487]  :  1953\n",
      "[27845]  :  4908\n",
      "[46667]  :  2007\n",
      "[41787]  :  1207\n",
      "[27521]  :  1761\n",
      "[34243]  :  1351\n",
      "[24184]  :  2905\n",
      "[37067]  :  2332\n",
      "[42701]  :  1047\n",
      "[42342]  :  928\n",
      "[47766]  :  7409\n",
      "[16953]  :  991\n",
      "[46676]  :  993\n",
      "[5785]  :  1535\n",
      "[38689]  :  1206\n",
      "[27086]  :  2424\n",
      "[31553]  :  1284\n",
      "[21938]  :  2521\n",
      "[432]  :  1277\n",
      "[44632]  :  3359\n",
      "[38739]  :  1633\n",
      "[7781]  :  1342\n",
      "[38293]  :  958\n",
      "[25890]  :  2088\n",
      "[22963]  :  1123\n",
      "[41844]  :  1218\n",
      "[28849]  :  1250\n",
      "[42768]  :  1141\n",
      "[44142]  :  1468\n",
      "[20995]  :  1361\n",
      "[37687]  :  1362\n",
      "[21288]  :  1077\n",
      "[33731]  :  1694\n",
      "[40604]  :  1449\n",
      "[4920]  :  4059\n",
      "[33754]  :  973\n",
      "[260]  :  1215\n",
      "[46802]  :  1077\n",
      "[24830]  :  1152\n",
      "[39877]  :  2337\n",
      "[30489]  :  2858\n",
      "[8518]  :  3818\n",
      "[4799]  :  1324\n",
      "[19348]  :  1220\n",
      "[35221]  :  1966\n",
      "[33198]  :  1803\n",
      "[46906]  :  1527\n",
      "[28204]  :  3257\n",
      "[3957]  :  1298\n",
      "[14947]  :  1125\n",
      "[43768]  :  943\n",
      "[44683]  :  1149\n",
      "[43352]  :  3279\n",
      "[29987]  :  944\n",
      "[41950]  :  2538\n",
      "[11777]  :  1493\n",
      "[2295]  :  1166\n",
      "[27156]  :  1576\n",
      "[48364]  :  916\n",
      "[42585]  :  1186\n",
      "[16185]  :  1262\n",
      "[21709]  :  1423\n",
      "[32689]  :  988\n",
      "[19678]  :  1174\n",
      "[20842]  :  1046\n",
      "[22825]  :  1893\n",
      "[9839]  :  1653\n",
      "[43295]  :  1248\n",
      "[37646]  :  2809\n",
      "[30233]  :  1137\n",
      "[42736]  :  1435\n",
      "[20114]  :  1899\n",
      "[24838]  :  2169\n",
      "[15290]  :  1864\n",
      "[8174]  :  1980\n",
      "[8021]  :  1183\n",
      "[26604]  :  2843\n",
      "[32655]  :  1052\n",
      "[4210]  :  1335\n",
      "[32864]  :  914\n",
      "[4605]  :  3762\n",
      "[5025]  :  1445\n",
      "[39928]  :  1880\n",
      "[39408]  :  959\n",
      "[23909]  :  1540\n",
      "[5479]  :  1132\n",
      "[13870]  :  991\n",
      "[23734]  :  1022\n",
      "[17948]  :  1065\n",
      "[25146]  :  1054\n",
      "[18362]  :  938\n",
      "[39475]  :  951\n",
      "[42828]  :  1078\n",
      "2 -itemsets\n",
      "[4605, 24852]  :  1071\n",
      "[4920, 24852]  :  1162\n",
      "[5876, 13176]  :  1067\n",
      "[8424, 24852]  :  925\n",
      "[13176, 19057]  :  973\n",
      "[13176, 21137]  :  3074\n",
      "[13176, 21903]  :  2236\n",
      "[13176, 22935]  :  1000\n",
      "[13176, 24964]  :  912\n",
      "[13176, 26209]  :  932\n",
      "[13176, 27845]  :  1118\n",
      "[13176, 27966]  :  1780\n",
      "[13176, 30391]  :  1268\n",
      "[13176, 39275]  :  1137\n",
      "[13176, 45007]  :  1041\n",
      "[13176, 47209]  :  2420\n",
      "[13176, 47626]  :  1057\n",
      "[13176, 47766]  :  1070\n",
      "[16797, 24852]  :  1948\n",
      "[21137, 21903]  :  1639\n",
      "[21137, 24852]  :  2174\n",
      "[21137, 27845]  :  954\n",
      "[21137, 27966]  :  1670\n",
      "[21137, 30391]  :  1032\n",
      "[21137, 39275]  :  1269\n",
      "[21137, 47209]  :  1539\n",
      "[21137, 47626]  :  1017\n",
      "[21137, 47766]  :  1088\n",
      "[21903, 24852]  :  2000\n",
      "[21903, 26209]  :  939\n",
      "[21903, 30391]  :  933\n",
      "[21903, 45007]  :  950\n",
      "[21903, 47209]  :  1252\n",
      "[21903, 47626]  :  1238\n",
      "[21903, 47766]  :  1402\n",
      "[24852, 26209]  :  1331\n",
      "[24852, 27845]  :  1044\n",
      "[24852, 28204]  :  1210\n",
      "[24852, 39275]  :  925\n",
      "[24852, 45007]  :  939\n",
      "[24852, 45066]  :  1231\n",
      "[24852, 47209]  :  947\n",
      "[24852, 47626]  :  2158\n",
      "[24852, 47766]  :  2216\n",
      "[26209, 31717]  :  1007\n",
      "[26209, 47626]  :  1595\n",
      "[26209, 47766]  :  1037\n",
      "[27966, 47209]  :  1019\n",
      "[47626, 47766]  :  1349\n",
      "TOTAL:  215 itemsets\n"
     ]
    }
   ],
   "source": [
    "prettyPrintFIS(FIS, support)"
   ]
  },
  {
   "cell_type": "markdown",
   "metadata": {},
   "source": [
    "### Question 1.4"
   ]
  },
  {
   "cell_type": "markdown",
   "metadata": {},
   "source": [
    "Transforming the data to the expected format and saving it to a file :"
   ]
  },
  {
   "cell_type": "code",
   "execution_count": 63,
   "metadata": {},
   "outputs": [],
   "source": [
    "sorted_dataset = dataset\n",
    "for transaction in dataset: transaction.sort()\n",
    "    \n",
    "f= open(\"data/LCM_input.txt\",\"w+\")\n",
    "\n",
    "for transaction in sorted_dataset:\n",
    "    line = \" \".join(str(x) for x in transaction)\n",
    "    f.write(line+'\\n')\n",
    "    \n",
    "f.close()"
   ]
  },
  {
   "cell_type": "markdown",
   "metadata": {},
   "source": [
    "Running the algorithm. The results are saved to *LCM_output.txt*."
   ]
  },
  {
   "cell_type": "code",
   "execution_count": 119,
   "metadata": {},
   "outputs": [
    {
     "name": "stdout",
     "output_type": "stream",
     "text": [
      "Execution time : 6.10992431640625 seconds\n"
     ]
    }
   ],
   "source": [
    "import os\n",
    "\n",
    "import time\n",
    "start_time = time.time()\n",
    "os.system('java -jar spmf.jar run LCM data/LCM_input.txt data/LCM_output.txt 0.4%')\n",
    "LCMTime = time.time() - start_time\n",
    "print(\"Execution time : %s seconds\" % LCMTime)"
   ]
  },
  {
   "cell_type": "markdown",
   "metadata": {},
   "source": [
    "Converting ids to their corresponding string for a better understanding of our results :"
   ]
  },
  {
   "cell_type": "code",
   "execution_count": 114,
   "metadata": {},
   "outputs": [],
   "source": [
    "def convertPatternFile(patternsFile, outputFile):\n",
    "    with open(patternsFile) as p, open(outputFile, 'w') as o:\n",
    "        pattData = p.readlines()\n",
    "        pattDict = {}\n",
    "        numPattDict = {}\n",
    "        \n",
    "        for pattLine in pattData:\n",
    "            supportSplit = pattLine.split(\"#\", 1)\n",
    "            items = supportSplit[0].strip().split(' ')\n",
    "            decodedPattern = idToProduct[int(items[0])]\n",
    "            for item in items[1:]:\n",
    "                decodedPattern += \" // \" + idToProduct[int(item)] \n",
    "\n",
    "            support = int(supportSplit[1].split(':')[1].strip())\n",
    "            pattDict[decodedPattern] = support\n",
    "            numPattDict[decodedPattern] = items\n",
    "\n",
    "        pattDict_sorted_keys = sorted(pattDict, key=pattDict.get, reverse=True)\n",
    "        for k in pattDict_sorted_keys:\n",
    "            o.write(k + \" ### support: \" + str(pattDict[k]) + \"  ### [\" + ', '.join(numPattDict[k]) + \"]\" +  \"\\n\")\n"
   ]
  },
  {
   "cell_type": "code",
   "execution_count": 120,
   "metadata": {},
   "outputs": [],
   "source": [
    "convertPatternFile(\"data/LCM_output.txt\", \"data/LCM_output_converted.txt\")"
   ]
  },
  {
   "cell_type": "markdown",
   "metadata": {},
   "source": [
    "Exemples of what the final output looks like :\n",
    "- Banana ### support: 18726  ### [24852]\n",
    "- Bag of Organic Bananas // Organic Strawberries ### support: 3074  ### [13176, 21137]\n",
    "- Bag of Organic Bananas // Organic Strawberries // Organic Hass Avocado ### support: 710  ### [13176, 21137, 47209]"
   ]
  },
  {
   "cell_type": "markdown",
   "metadata": {},
   "source": [
    "#### Comparing Apriori and LCM"
   ]
  },
  {
   "cell_type": "markdown",
   "metadata": {},
   "source": [
    "Comparing execution time :"
   ]
  },
  {
   "cell_type": "code",
   "execution_count": null,
   "metadata": {},
   "outputs": [],
   "source": [
    "time_diff = aprioriTime - LCMTime"
   ]
  },
  {
   "cell_type": "markdown",
   "metadata": {},
   "source": [
    "We can observe that *LCM* is much faster that *Apriori* even when the minsup given to *LCM* is lower that the one given to *Apriori*. As a consequence, *LCM* outputs more frequent itemsets than *Apriori* for a significantly lower execution time (533 frequent itemsets for *LCM* against 215 for *Apriori*)."
   ]
  },
  {
   "cell_type": "markdown",
   "metadata": {},
   "source": [
    "### Question 1.5"
   ]
  },
  {
   "cell_type": "markdown",
   "metadata": {},
   "source": [
    "We want to create a graph that would help us determine what aisles shoud be placed far apart. We start by creating an dictionnary of pairs of frequent aisles for which products appear together in our closed frequent itemsets together with there counts. We only use 2-itemsets for simplicity."
   ]
  },
  {
   "cell_type": "markdown",
   "metadata": {},
   "source": [
    "The following methods allow us to respectively convert a product's ID to the corresponding aisle's ID and an ailse's ID to the corresponding aisle's name."
   ]
  },
  {
   "cell_type": "code",
   "execution_count": 60,
   "metadata": {},
   "outputs": [],
   "source": [
    "def productToAisle(id):\n",
    "    products = pd.read_csv('data/products.csv', index_col='product_id')    \n",
    "    return int(products.at[id, 'aisle_id'])\n",
    "\n",
    "def idToAisle(id):\n",
    "    aisles = pd.read_csv('data/aisles.csv', index_col='aisle_id')\n",
    "    return aisles.at[id, 'aisle']\n",
    "    "
   ]
  },
  {
   "cell_type": "markdown",
   "metadata": {},
   "source": [
    "Next, we generate the pairs :"
   ]
  },
  {
   "cell_type": "code",
   "execution_count": 85,
   "metadata": {},
   "outputs": [],
   "source": [
    "import re\n",
    "\n",
    "aislePairs = {}\n",
    "\n",
    "with open(\"data/LCM_output.txt\") as f:\n",
    "    data = f.readlines()\n",
    "    \n",
    "    for line in data:\n",
    "        m = re.match(r'^(\\d*)\\s(\\d*)\\s#SUP:\\s\\d*', line)\n",
    "        if (m != None):\n",
    "            pair = [productToAisle(int(m.group(1))), productToAisle(int(m.group(2)))]\n",
    "            if (pair[0] != pair[1]):\n",
    "                pair.sort()\n",
    "                pair = (idToAisle(pair[0]), idToAisle(pair[1]))\n",
    "                if pair in aislePairs:\n",
    "                    aislePairs[pair] += 1\n",
    "                else:\n",
    "                    aislePairs[pair] = 1\n",
    "\n",
    "        "
   ]
  },
  {
   "cell_type": "markdown",
   "metadata": {},
   "source": [
    "First 10 elements of our generated pairs looks like this :"
   ]
  },
  {
   "cell_type": "code",
   "execution_count": 82,
   "metadata": {},
   "outputs": [
    {
     "data": {
      "text/plain": [
       "{('fresh vegetables', 'packaged vegetables fruits'): 10,\n",
       " ('fresh fruits', 'fresh vegetables'): 58,\n",
       " ('fresh fruits', 'packaged vegetables fruits'): 33,\n",
       " ('fresh fruits', 'bread'): 1,\n",
       " ('fresh herbs', 'fresh vegetables'): 1,\n",
       " ('fresh fruits', 'frozen produce'): 1,\n",
       " ('fresh fruits', 'packaged produce'): 5,\n",
       " ('packaged cheese', 'fresh fruits'): 1,\n",
       " ('fresh fruits', 'milk'): 3,\n",
       " ('fresh fruits', 'fresh dips tapenades'): 2}"
      ]
     },
     "execution_count": 82,
     "metadata": {},
     "output_type": "execute_result"
    }
   ],
   "source": [
    "dict(list(aislePairs.items())[0:10])"
   ]
  },
  {
   "cell_type": "markdown",
   "metadata": {},
   "source": [
    "We convert out dictionnary to an array :"
   ]
  },
  {
   "cell_type": "code",
   "execution_count": null,
   "metadata": {},
   "outputs": [],
   "source": [
    "aislePairsArray = [[k[0], k[1], v] for k,v in dict(list(aislePairs.items())).items()]"
   ]
  },
  {
   "cell_type": "markdown",
   "metadata": {},
   "source": [
    "Now we can build our graph."
   ]
  },
  {
   "cell_type": "code",
   "execution_count": 133,
   "metadata": {},
   "outputs": [
    {
     "data": {
      "image/png": "[encoded data removed]",
      "text/plain": [
       "<Figure size 432x288 with 1 Axes>"
      ]
     },
     "metadata": {},
     "output_type": "display_data"
    }
   ],
   "source": [
    "import networkx as nx\n",
    "\n",
    "df = pd.DataFrame(aislePairsArray, columns=['from', 'to', 'value'])\n",
    "\n",
    "G=nx.from_pandas_edgelist(df, 'from', 'to')\n",
    "\n",
    "nx.draw(G, with_labels=True, node_color='skyblue', node_size=3000, edge_color=df['value'], width=10.0, edge_cmap=plt.cm.Reds)"
   ]
  },
  {
   "cell_type": "markdown",
   "metadata": {},
   "source": [
    "The nodes represent the different aisles and the edges represent products of the corresponding aisles that are bought together. The more an edge is dark, the more products from those aisles are bought together. We can see that **fresh fruits** and **fresh vegetables** are often bought together. Same goes for **fresh vegetables** and **fresh herbs**. One could think that placing those aisles far from each others could benefit the supermarket. Globally, this graph gives us insights on which aisles should be placed far from each other."
   ]
  },
  {
   "cell_type": "markdown",
   "metadata": {},
   "source": [
    "### Question 1.6"
   ]
  },
  {
   "cell_type": "markdown",
   "metadata": {},
   "source": [
    "We're gonna use the *Mlxtend* library to compute association rules."
   ]
  },
  {
   "cell_type": "code",
   "execution_count": 4,
   "metadata": {},
   "outputs": [],
   "source": [
    "from mlxtend.frequent_patterns import association_rules"
   ]
  },
  {
   "cell_type": "markdown",
   "metadata": {},
   "source": [
    "Preparing the data :"
   ]
  },
  {
   "cell_type": "code",
   "execution_count": 12,
   "metadata": {},
   "outputs": [],
   "source": [
    "def dataToMlxtendFormat(patternsFile, totalTransactions):\n",
    "    with open(patternsFile) as p:\n",
    "        data = p.readlines()\n",
    "        \n",
    "        result = []\n",
    "        \n",
    "        for line in data:\n",
    "            row = []\n",
    "            split1 = line.split(' ### ')\n",
    "            support = int(split1[1].split(' ')[1])/totalTransactions\n",
    "            row.append(support)\n",
    "            split2 = split1[0].split(' // ')\n",
    "            row.append(tuple(split2))            \n",
    "            result.append(row)\n",
    "            \n",
    "        return pd.DataFrame(result, columns=['support', 'itemsets'])"
   ]
  },
  {
   "cell_type": "code",
   "execution_count": 22,
   "metadata": {},
   "outputs": [
    {
     "data": {
      "text/html": [
       "<div>\n",
       "<style scoped>\n",
       "    .dataframe tbody tr th:only-of-type {\n",
       "        vertical-align: middle;\n",
       "    }\n",
       "\n",
       "    .dataframe tbody tr th {\n",
       "        vertical-align: top;\n",
       "    }\n",
       "\n",
       "    .dataframe thead th {\n",
       "        text-align: right;\n",
       "    }\n",
       "</style>\n",
       "<table border=\"1\" class=\"dataframe\">\n",
       "  <thead>\n",
       "    <tr style=\"text-align: right;\">\n",
       "      <th></th>\n",
       "      <th>support</th>\n",
       "      <th>itemsets</th>\n",
       "    </tr>\n",
       "  </thead>\n",
       "  <tbody>\n",
       "    <tr>\n",
       "      <th>0</th>\n",
       "      <td>0.003381</td>\n",
       "      <td>(Banana,)</td>\n",
       "    </tr>\n",
       "    <tr>\n",
       "      <th>1</th>\n",
       "      <td>0.002795</td>\n",
       "      <td>(Bag of Organic Bananas,)</td>\n",
       "    </tr>\n",
       "    <tr>\n",
       "      <th>2</th>\n",
       "      <td>0.001967</td>\n",
       "      <td>(Organic Strawberries,)</td>\n",
       "    </tr>\n",
       "    <tr>\n",
       "      <th>3</th>\n",
       "      <td>0.001767</td>\n",
       "      <td>(Organic Baby Spinach,)</td>\n",
       "    </tr>\n",
       "    <tr>\n",
       "      <th>4</th>\n",
       "      <td>0.001469</td>\n",
       "      <td>(Large Lemon,)</td>\n",
       "    </tr>\n",
       "    <tr>\n",
       "      <th>...</th>\n",
       "      <td>...</td>\n",
       "      <td>...</td>\n",
       "    </tr>\n",
       "    <tr>\n",
       "      <th>528</th>\n",
       "      <td>0.000095</td>\n",
       "      <td>(Carrots, Banana)</td>\n",
       "    </tr>\n",
       "    <tr>\n",
       "      <th>529</th>\n",
       "      <td>0.000095</td>\n",
       "      <td>(Organic Free Range Chicken Broth,)</td>\n",
       "    </tr>\n",
       "    <tr>\n",
       "      <th>530</th>\n",
       "      <td>0.000095</td>\n",
       "      <td>(Broccoli Crown, Large Lemon)</td>\n",
       "    </tr>\n",
       "    <tr>\n",
       "      <th>531</th>\n",
       "      <td>0.000095</td>\n",
       "      <td>(Organic Broccoli, Bag of Organic Bananas)</td>\n",
       "    </tr>\n",
       "    <tr>\n",
       "      <th>532</th>\n",
       "      <td>0.000095</td>\n",
       "      <td>(Red Potatoes,)</td>\n",
       "    </tr>\n",
       "  </tbody>\n",
       "</table>\n",
       "<p>533 rows × 2 columns</p>\n",
       "</div>"
      ],
      "text/plain": [
       "      support                                    itemsets\n",
       "0    0.003381                                   (Banana,)\n",
       "1    0.002795                   (Bag of Organic Bananas,)\n",
       "2    0.001967                     (Organic Strawberries,)\n",
       "3    0.001767                     (Organic Baby Spinach,)\n",
       "4    0.001469                              (Large Lemon,)\n",
       "..        ...                                         ...\n",
       "528  0.000095                           (Carrots, Banana)\n",
       "529  0.000095         (Organic Free Range Chicken Broth,)\n",
       "530  0.000095               (Broccoli Crown, Large Lemon)\n",
       "531  0.000095  (Organic Broccoli, Bag of Organic Bananas)\n",
       "532  0.000095                             (Red Potatoes,)\n",
       "\n",
       "[533 rows x 2 columns]"
      ]
     },
     "execution_count": 22,
     "metadata": {},
     "output_type": "execute_result"
    }
   ],
   "source": [
    "freq_items = dataToMlxtendFormat('data/LCM_output_converted.txt', order_products_df.size)\n",
    "freq_items"
   ]
  },
  {
   "cell_type": "markdown",
   "metadata": {},
   "source": [
    "Computing the association rules :"
   ]
  },
  {
   "cell_type": "code",
   "execution_count": 27,
   "metadata": {},
   "outputs": [
    {
     "data": {
      "text/html": [
       "<div>\n",
       "<style scoped>\n",
       "    .dataframe tbody tr th:only-of-type {\n",
       "        vertical-align: middle;\n",
       "    }\n",
       "\n",
       "    .dataframe tbody tr th {\n",
       "        vertical-align: top;\n",
       "    }\n",
       "\n",
       "    .dataframe thead th {\n",
       "        text-align: right;\n",
       "    }\n",
       "</style>\n",
       "<table border=\"1\" class=\"dataframe\">\n",
       "  <thead>\n",
       "    <tr style=\"text-align: right;\">\n",
       "      <th></th>\n",
       "      <th>antecedents</th>\n",
       "      <th>consequents</th>\n",
       "      <th>antecedent support</th>\n",
       "      <th>consequent support</th>\n",
       "      <th>support</th>\n",
       "      <th>confidence</th>\n",
       "      <th>lift</th>\n",
       "      <th>leverage</th>\n",
       "      <th>conviction</th>\n",
       "    </tr>\n",
       "  </thead>\n",
       "  <tbody>\n",
       "    <tr>\n",
       "      <th>0</th>\n",
       "      <td>(Organic Strawberries)</td>\n",
       "      <td>(Bag of Organic Bananas)</td>\n",
       "      <td>0.001967</td>\n",
       "      <td>0.002795</td>\n",
       "      <td>0.000555</td>\n",
       "      <td>0.282174</td>\n",
       "      <td>100.956709</td>\n",
       "      <td>0.000550</td>\n",
       "      <td>1.389201</td>\n",
       "    </tr>\n",
       "    <tr>\n",
       "      <th>1</th>\n",
       "      <td>(Organic Hass Avocado)</td>\n",
       "      <td>(Bag of Organic Bananas)</td>\n",
       "      <td>0.001317</td>\n",
       "      <td>0.002795</td>\n",
       "      <td>0.000437</td>\n",
       "      <td>0.331825</td>\n",
       "      <td>118.721082</td>\n",
       "      <td>0.000433</td>\n",
       "      <td>1.492431</td>\n",
       "    </tr>\n",
       "    <tr>\n",
       "      <th>2</th>\n",
       "      <td>(Organic Baby Spinach)</td>\n",
       "      <td>(Bag of Organic Bananas)</td>\n",
       "      <td>0.001767</td>\n",
       "      <td>0.002795</td>\n",
       "      <td>0.000404</td>\n",
       "      <td>0.228536</td>\n",
       "      <td>81.766244</td>\n",
       "      <td>0.000399</td>\n",
       "      <td>1.292614</td>\n",
       "    </tr>\n",
       "    <tr>\n",
       "      <th>3</th>\n",
       "      <td>(Organic Avocado)</td>\n",
       "      <td>(Banana)</td>\n",
       "      <td>0.001338</td>\n",
       "      <td>0.003381</td>\n",
       "      <td>0.000400</td>\n",
       "      <td>0.299096</td>\n",
       "      <td>88.461601</td>\n",
       "      <td>0.000396</td>\n",
       "      <td>1.421904</td>\n",
       "    </tr>\n",
       "    <tr>\n",
       "      <th>4</th>\n",
       "      <td>(Large Lemon)</td>\n",
       "      <td>(Banana)</td>\n",
       "      <td>0.001469</td>\n",
       "      <td>0.003381</td>\n",
       "      <td>0.000390</td>\n",
       "      <td>0.265274</td>\n",
       "      <td>78.458232</td>\n",
       "      <td>0.000385</td>\n",
       "      <td>1.356449</td>\n",
       "    </tr>\n",
       "    <tr>\n",
       "      <th>...</th>\n",
       "      <td>...</td>\n",
       "      <td>...</td>\n",
       "      <td>...</td>\n",
       "      <td>...</td>\n",
       "      <td>...</td>\n",
       "      <td>...</td>\n",
       "      <td>...</td>\n",
       "      <td>...</td>\n",
       "      <td>...</td>\n",
       "    </tr>\n",
       "    <tr>\n",
       "      <th>91</th>\n",
       "      <td>(Organic Hass Avocado, Organic Raspberries)</td>\n",
       "      <td>(Bag of Organic Bananas)</td>\n",
       "      <td>0.000184</td>\n",
       "      <td>0.002795</td>\n",
       "      <td>0.000096</td>\n",
       "      <td>0.521099</td>\n",
       "      <td>186.439973</td>\n",
       "      <td>0.000095</td>\n",
       "      <td>2.082278</td>\n",
       "    </tr>\n",
       "    <tr>\n",
       "      <th>92</th>\n",
       "      <td>(Organic Hass Avocado, Bag of Organic Bananas)</td>\n",
       "      <td>(Organic Raspberries)</td>\n",
       "      <td>0.000437</td>\n",
       "      <td>0.001001</td>\n",
       "      <td>0.000096</td>\n",
       "      <td>0.219421</td>\n",
       "      <td>219.123492</td>\n",
       "      <td>0.000095</td>\n",
       "      <td>1.279818</td>\n",
       "    </tr>\n",
       "    <tr>\n",
       "      <th>93</th>\n",
       "      <td>(Organic Raspberries, Bag of Organic Bananas)</td>\n",
       "      <td>(Organic Hass Avocado)</td>\n",
       "      <td>0.000321</td>\n",
       "      <td>0.001317</td>\n",
       "      <td>0.000096</td>\n",
       "      <td>0.298315</td>\n",
       "      <td>226.546812</td>\n",
       "      <td>0.000095</td>\n",
       "      <td>1.423264</td>\n",
       "    </tr>\n",
       "    <tr>\n",
       "      <th>94</th>\n",
       "      <td>(Carrots)</td>\n",
       "      <td>(Banana)</td>\n",
       "      <td>0.000451</td>\n",
       "      <td>0.003381</td>\n",
       "      <td>0.000095</td>\n",
       "      <td>0.211053</td>\n",
       "      <td>62.421860</td>\n",
       "      <td>0.000094</td>\n",
       "      <td>1.263227</td>\n",
       "    </tr>\n",
       "    <tr>\n",
       "      <th>95</th>\n",
       "      <td>(Organic Broccoli)</td>\n",
       "      <td>(Bag of Organic Bananas)</td>\n",
       "      <td>0.000298</td>\n",
       "      <td>0.002795</td>\n",
       "      <td>0.000095</td>\n",
       "      <td>0.317604</td>\n",
       "      <td>113.633176</td>\n",
       "      <td>0.000094</td>\n",
       "      <td>1.461330</td>\n",
       "    </tr>\n",
       "  </tbody>\n",
       "</table>\n",
       "<p>96 rows × 9 columns</p>\n",
       "</div>"
      ],
      "text/plain": [
       "                                       antecedents               consequents  \\\n",
       "0                           (Organic Strawberries)  (Bag of Organic Bananas)   \n",
       "1                           (Organic Hass Avocado)  (Bag of Organic Bananas)   \n",
       "2                           (Organic Baby Spinach)  (Bag of Organic Bananas)   \n",
       "3                                (Organic Avocado)                  (Banana)   \n",
       "4                                    (Large Lemon)                  (Banana)   \n",
       "..                                             ...                       ...   \n",
       "91     (Organic Hass Avocado, Organic Raspberries)  (Bag of Organic Bananas)   \n",
       "92  (Organic Hass Avocado, Bag of Organic Bananas)     (Organic Raspberries)   \n",
       "93   (Organic Raspberries, Bag of Organic Bananas)    (Organic Hass Avocado)   \n",
       "94                                       (Carrots)                  (Banana)   \n",
       "95                              (Organic Broccoli)  (Bag of Organic Bananas)   \n",
       "\n",
       "    antecedent support  consequent support   support  confidence        lift  \\\n",
       "0             0.001967            0.002795  0.000555    0.282174  100.956709   \n",
       "1             0.001317            0.002795  0.000437    0.331825  118.721082   \n",
       "2             0.001767            0.002795  0.000404    0.228536   81.766244   \n",
       "3             0.001338            0.003381  0.000400    0.299096   88.461601   \n",
       "4             0.001469            0.003381  0.000390    0.265274   78.458232   \n",
       "..                 ...                 ...       ...         ...         ...   \n",
       "91            0.000184            0.002795  0.000096    0.521099  186.439973   \n",
       "92            0.000437            0.001001  0.000096    0.219421  219.123492   \n",
       "93            0.000321            0.001317  0.000096    0.298315  226.546812   \n",
       "94            0.000451            0.003381  0.000095    0.211053   62.421860   \n",
       "95            0.000298            0.002795  0.000095    0.317604  113.633176   \n",
       "\n",
       "    leverage  conviction  \n",
       "0   0.000550    1.389201  \n",
       "1   0.000433    1.492431  \n",
       "2   0.000399    1.292614  \n",
       "3   0.000396    1.421904  \n",
       "4   0.000385    1.356449  \n",
       "..       ...         ...  \n",
       "91  0.000095    2.082278  \n",
       "92  0.000095    1.279818  \n",
       "93  0.000095    1.423264  \n",
       "94  0.000094    1.263227  \n",
       "95  0.000094    1.461330  \n",
       "\n",
       "[96 rows x 9 columns]"
      ]
     },
     "execution_count": 27,
     "metadata": {},
     "output_type": "execute_result"
    }
   ],
   "source": [
    "rules = association_rules(freq_items, metric=\"confidence\", min_threshold=0.2)\n",
    "rules"
   ]
  },
  {
   "cell_type": "markdown",
   "metadata": {},
   "source": [
    "#### Post-processing and filtering the generated rules"
   ]
  },
  {
   "cell_type": "markdown",
   "metadata": {},
   "source": [
    "This method allows us to select rules concluding on a single\n",
    "determined product :"
   ]
  },
  {
   "cell_type": "code",
   "execution_count": 51,
   "metadata": {},
   "outputs": [],
   "source": [
    "def singleProduct(df, product):\n",
    "    for index, row in df.iterrows():\n",
    "        if row['consequents'] == frozenset([product]):\n",
    "            support = str(int(row['support'])*order_products_df.size)\n",
    "            confidence = str(row['confidence'])\n",
    "            print(' , '.join(row['antecedents'])+' -> '+product+' ### Support : '+support+' ### Confidence : '+confidence)\n",
    "    \n",
    "    "
   ]
  },
  {
   "cell_type": "markdown",
   "metadata": {},
   "source": [
    "An exemple of rules concluding to *\\\"Organic Raspberries\\\"* :"
   ]
  },
  {
   "cell_type": "code",
   "execution_count": 54,
   "metadata": {},
   "outputs": [
    {
     "name": "stdout",
     "output_type": "stream",
     "text": [
      "Organic Strawberries , Bag of Organic Bananas -> Organic Raspberries ### Support : 0 ### Confidence : 0.21112556929082632\n",
      "Organic Hass Avocado , Bag of Organic Bananas -> Organic Raspberries ### Support : 0 ### Confidence : 0.2194214876033058\n"
     ]
    }
   ],
   "source": [
    "singleProduct(rules, 'Organic Raspberries')"
   ]
  },
  {
   "cell_type": "markdown",
   "metadata": {},
   "source": [
    "This method allows us to select rules concluding only on products from a specific aisle :"
   ]
  },
  {
   "cell_type": "code",
   "execution_count": 63,
   "metadata": {},
   "outputs": [],
   "source": [
    "def specificAisle(df, aisle):\n",
    "    for index, row in df.iterrows():\n",
    "        def inner() :\n",
    "            for p in row['consequents']:\n",
    "                productId =  list(idToProduct.keys())[list(idToProduct.values()).index(p)]\n",
    "                aisleId = productToAisle(productId)\n",
    "                current_aisle = idToAisle(aisleId)\n",
    "                if current_aisle != aisle: return\n",
    "            support = str(int(row['support'])*order_products_df.size)\n",
    "            confidence = str(row['confidence'])\n",
    "            print(' , '.join(row['antecedents'])+' -> '+''.join(row['consequents'])+' ### Support : '+support+' ### Confidence : '+confidence)\n",
    "        inner()"
   ]
  },
  {
   "cell_type": "markdown",
   "metadata": {},
   "source": [
    "An exemple of rules concluding to products from the *\\\"packaged vegetables fruits\\\"* aisle :"
   ]
  },
  {
   "cell_type": "code",
   "execution_count": 68,
   "metadata": {},
   "outputs": [
    {
     "name": "stdout",
     "output_type": "stream",
     "text": [
      "Organic Zucchini -> Organic Baby Spinach ### Support : 0 ### Confidence : 0.2070167792547396\n",
      "Organic Cucumber -> Organic Baby Spinach ### Support : 0 ### Confidence : 0.2022544981573813\n",
      "Organic Grape Tomatoes -> Organic Baby Spinach ### Support : 0 ### Confidence : 0.22181532827622283\n",
      "Organic Strawberries , Bag of Organic Bananas -> Organic Raspberries ### Support : 0 ### Confidence : 0.21112556929082632\n",
      "Organic Garnet Sweet Potato (Yam) -> Organic Baby Spinach ### Support : 0 ### Confidence : 0.24026479750778817\n",
      "Michigan Organic Kale -> Organic Baby Spinach ### Support : 0 ### Confidence : 0.20251237152645601\n",
      "Organic Hass Avocado , Bag of Organic Bananas -> Organic Raspberries ### Support : 0 ### Confidence : 0.2194214876033058\n"
     ]
    }
   ],
   "source": [
    "specificAisle(rules, 'packaged vegetables fruits')"
   ]
  },
  {
   "cell_type": "markdown",
   "metadata": {},
   "source": [
    "Some interesting rules that I've able to extract :\n",
    "- *Organic Strawberries , Bag of Organic Bananas -> Organic Raspberries :*\n",
    "   - This suggest that the user might want to make a smoothie 🥤\n",
    "- *Organic Grape Tomatoes -> Organic Baby Spinach :*\n",
    "    - This suggest that the user might want to make a salad 🥗"
   ]
  },
  {
   "cell_type": "markdown",
   "metadata": {},
   "source": [
    "## Task 2 : Sequential Pattern Mining"
   ]
  },
  {
   "cell_type": "markdown",
   "metadata": {},
   "source": [
    "### Question 2.1"
   ]
  },
  {
   "cell_type": "markdown",
   "metadata": {},
   "source": [
    "We are now going to consider one transaction for each user where the sequence of orders represents the transaction. The items will be the products."
   ]
  },
  {
   "cell_type": "markdown",
   "metadata": {},
   "source": [
    "Transforming the data into the expected format"
   ]
  },
  {
   "cell_type": "code",
   "execution_count": 131,
   "metadata": {},
   "outputs": [
    {
     "data": {
      "text/html": [
       "<div>\n",
       "<style scoped>\n",
       "    .dataframe tbody tr th:only-of-type {\n",
       "        vertical-align: middle;\n",
       "    }\n",
       "\n",
       "    .dataframe tbody tr th {\n",
       "        vertical-align: top;\n",
       "    }\n",
       "\n",
       "    .dataframe thead th {\n",
       "        text-align: right;\n",
       "    }\n",
       "</style>\n",
       "<table border=\"1\" class=\"dataframe\">\n",
       "  <thead>\n",
       "    <tr style=\"text-align: right;\">\n",
       "      <th></th>\n",
       "      <th>user id</th>\n",
       "      <th>order number</th>\n",
       "      <th>size of order</th>\n",
       "      <th>products</th>\n",
       "    </tr>\n",
       "  </thead>\n",
       "  <tbody>\n",
       "    <tr>\n",
       "      <th>0</th>\n",
       "      <td>1</td>\n",
       "      <td>1</td>\n",
       "      <td>5</td>\n",
       "      <td>AgedWhiteCheddarPopcorn,OrganicUnsweetenedVani...</td>\n",
       "    </tr>\n",
       "    <tr>\n",
       "      <th>1</th>\n",
       "      <td>1</td>\n",
       "      <td>2</td>\n",
       "      <td>6</td>\n",
       "      <td>AgedWhiteCheddarPopcorn,BagofOrganicBananas,Ci...</td>\n",
       "    </tr>\n",
       "    <tr>\n",
       "      <th>2</th>\n",
       "      <td>1</td>\n",
       "      <td>3</td>\n",
       "      <td>5</td>\n",
       "      <td>CreamyAlmondButter,OrganicStringCheese,Origina...</td>\n",
       "    </tr>\n",
       "    <tr>\n",
       "      <th>3</th>\n",
       "      <td>1</td>\n",
       "      <td>4</td>\n",
       "      <td>5</td>\n",
       "      <td>OrganicStringCheese,OriginalBeefJerky,Pistachi...</td>\n",
       "    </tr>\n",
       "    <tr>\n",
       "      <th>4</th>\n",
       "      <td>1</td>\n",
       "      <td>5</td>\n",
       "      <td>8</td>\n",
       "      <td>BagofOrganicBananas,BartlettPears,HoneycrispAp...</td>\n",
       "    </tr>\n",
       "  </tbody>\n",
       "</table>\n",
       "</div>"
      ],
      "text/plain": [
       "   user id  order number  size of order  \\\n",
       "0        1             1              5   \n",
       "1        1             2              6   \n",
       "2        1             3              5   \n",
       "3        1             4              5   \n",
       "4        1             5              8   \n",
       "\n",
       "                                            products  \n",
       "0  AgedWhiteCheddarPopcorn,OrganicUnsweetenedVani...  \n",
       "1  AgedWhiteCheddarPopcorn,BagofOrganicBananas,Ci...  \n",
       "2  CreamyAlmondButter,OrganicStringCheese,Origina...  \n",
       "3  OrganicStringCheese,OriginalBeefJerky,Pistachi...  \n",
       "4  BagofOrganicBananas,BartlettPears,HoneycrispAp...  "
      ]
     },
     "execution_count": 131,
     "metadata": {},
     "output_type": "execute_result"
    }
   ],
   "source": [
    "sequences = pd.read_csv('data/transactions_seq.txt', sep=\"\t\", header=None, names=['user id', 'order number', 'size of order', 'products'], encoding='latin-1')\n",
    "sequences.head()"
   ]
  },
  {
   "cell_type": "code",
   "execution_count": 4,
   "metadata": {},
   "outputs": [],
   "source": [
    "def convertSequenceFile(sequenceFile, outputFile):\n",
    "    with open(outputFile, 'w') as o:\n",
    "        sequences = pd.read_csv(sequenceFile, sep=\"\t\", header=None, names=['user id', 'order number', 'size of order', 'products'], encoding='latin-1')\n",
    "        \n",
    "        grouped = sequences.groupby('user id')\n",
    "        \n",
    "        productToId = dict((v.replace(' ', ''),k) for k,v in idToProduct.items())\n",
    "\n",
    "        for name, group in grouped:\n",
    "            line = ''\n",
    "            for row_index, row in group.iterrows():\n",
    "                products = row['products'].split(',')\n",
    "                products_str = ''\n",
    "                ids = []\n",
    "                for product in products:\n",
    "                    ids.append(productToId[product])\n",
    "                ids.sort()\n",
    "                for id in ids:\n",
    "                    products_str = products_str + str(id) + ' ' \n",
    "                line = line + products_str + '-1 '\n",
    "            line = line + '-2\\n'\n",
    "            \n",
    "            o.write(line)"
   ]
  },
  {
   "cell_type": "code",
   "execution_count": 5,
   "metadata": {},
   "outputs": [
    {
     "ename": "KeyError",
     "evalue": "'BakedRiceandCornPuffs'",
     "output_type": "error",
     "traceback": [
      "\u001b[0;31m---------------------------------------------------------------------------\u001b[0m",
      "\u001b[0;31mKeyError\u001b[0m                                  Traceback (most recent call last)",
      "\u001b[0;32m<ipython-input-5-590913ed5eae>\u001b[0m in \u001b[0;36m<module>\u001b[0;34m\u001b[0m\n\u001b[0;32m----> 1\u001b[0;31m \u001b[0mconvertSequenceFile\u001b[0m\u001b[0;34m(\u001b[0m\u001b[0;34m'data/transactions_seq.txt'\u001b[0m\u001b[0;34m,\u001b[0m \u001b[0;34m'data/CloSpan_input_2.txt'\u001b[0m\u001b[0;34m)\u001b[0m\u001b[0;34m\u001b[0m\u001b[0;34m\u001b[0m\u001b[0m\n\u001b[0m",
      "\u001b[0;32m<ipython-input-4-cf10f151f3dc>\u001b[0m in \u001b[0;36mconvertSequenceFile\u001b[0;34m(sequenceFile, outputFile)\u001b[0m\n\u001b[1;32m     14\u001b[0m                 \u001b[0mids\u001b[0m \u001b[0;34m=\u001b[0m \u001b[0;34m[\u001b[0m\u001b[0;34m]\u001b[0m\u001b[0;34m\u001b[0m\u001b[0;34m\u001b[0m\u001b[0m\n\u001b[1;32m     15\u001b[0m                 \u001b[0;32mfor\u001b[0m \u001b[0mproduct\u001b[0m \u001b[0;32min\u001b[0m \u001b[0mproducts\u001b[0m\u001b[0;34m:\u001b[0m\u001b[0;34m\u001b[0m\u001b[0;34m\u001b[0m\u001b[0m\n\u001b[0;32m---> 16\u001b[0;31m                     \u001b[0mids\u001b[0m\u001b[0;34m.\u001b[0m\u001b[0mappend\u001b[0m\u001b[0;34m(\u001b[0m\u001b[0mproductToId\u001b[0m\u001b[0;34m[\u001b[0m\u001b[0mproduct\u001b[0m\u001b[0;34m]\u001b[0m\u001b[0;34m)\u001b[0m\u001b[0;34m\u001b[0m\u001b[0;34m\u001b[0m\u001b[0m\n\u001b[0m\u001b[1;32m     17\u001b[0m                 \u001b[0mids\u001b[0m\u001b[0;34m.\u001b[0m\u001b[0msort\u001b[0m\u001b[0;34m(\u001b[0m\u001b[0;34m)\u001b[0m\u001b[0;34m\u001b[0m\u001b[0;34m\u001b[0m\u001b[0m\n\u001b[1;32m     18\u001b[0m                 \u001b[0;32mfor\u001b[0m \u001b[0mid\u001b[0m \u001b[0;32min\u001b[0m \u001b[0mids\u001b[0m\u001b[0;34m:\u001b[0m\u001b[0;34m\u001b[0m\u001b[0;34m\u001b[0m\u001b[0m\n",
      "\u001b[0;31mKeyError\u001b[0m: 'BakedRiceandCornPuffs'"
     ]
    }
   ],
   "source": [
    "convertSequenceFile('data/transactions_seq.txt', 'data/CloSpan_input.txt')"
   ]
  },
  {
   "cell_type": "markdown",
   "metadata": {},
   "source": [
    "#### ⚠ Encountered problem"
   ]
  },
  {
   "cell_type": "markdown",
   "metadata": {},
   "source": [
    "When trying to process the data. I came across a problem.\n",
    "The provided file contains a list of products for each order. This list is in the form of coma separated products. However, some of the indivual products are in the form of coma separated \"items\". For exemple, in the *products.csv* file, I found a product named : *Baked Rice and Corn Puffs, Aged White Cheddar*. This product appears in one of the transactions aswell (the 11th to be precise). We end up with a product list looking like this :\n",
    "\n",
    "> BakedRiceandCornPuffs,AgedWhiteCheddar,Eggs,Hard-Boiled,HardBoiledEggs,...\n",
    "\n",
    "Now if we want to split this list using comas as seperators, we will end up with 2 different products *BakedRiceandCornPuffs* and *AgedWhiteCheddar* while they appear as a single product in the original database.\n",
    "\n",
    "For this reason, after writing the solution code that I think would have worked if I didn't encounter this problem, I haven't been able to complete this task."
   ]
  },
  {
   "cell_type": "code",
   "execution_count": null,
   "metadata": {},
   "outputs": [],
   "source": [
    "import os\n",
    "os.system('java -jar spmf.jar run CloSpan data/CloSpan_input.txt data/CloSpan_output.txt 50%')"
   ]
  },
  {
   "cell_type": "markdown",
   "metadata": {},
   "source": [
    "### Question 2.2"
   ]
  },
  {
   "cell_type": "markdown",
   "metadata": {},
   "source": [
    "> ⚠ Imcomplete because of the problem explained above."
   ]
  }
 ],
 "metadata": {
  "kernelspec": {
   "display_name": "Python 3",
   "language": "python",
   "name": "python3"
  },
  "language_info": {
   "codemirror_mode": {
    "name": "ipython",
    "version": 3
   },
   "file_extension": ".py",
   "mimetype": "text/x-python",
   "name": "python",
   "nbconvert_exporter": "python",
   "pygments_lexer": "ipython3",
   "version": "3.6.8"
  }
 },
 "nbformat": 4,
 "nbformat_minor": 4
}
